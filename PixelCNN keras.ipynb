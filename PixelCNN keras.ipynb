{
 "cells": [
  {
   "cell_type": "code",
   "execution_count": 2,
   "metadata": {
    "colab": {
     "base_uri": "https://localhost:8080/",
     "height": 34
    },
    "colab_type": "code",
    "executionInfo": {
     "elapsed": 3705,
     "status": "ok",
     "timestamp": 1572442374851,
     "user": {
      "displayName": "이희찬",
      "photoUrl": "",
      "userId": "06255163499262544080"
     },
     "user_tz": -540
    },
    "id": "FwaM_08ESRRG",
    "outputId": "9f482bb6-1216-4781-bfde-bfe63d17fbc0"
   },
   "outputs": [
    {
     "name": "stdout",
     "output_type": "stream",
     "text": [
      "TensorFlow 2.x selected.\n"
     ]
    }
   ],
   "source": [
    "import tensorflow as tf\n",
    "from tensorflow.keras import layers\n",
    "import numpy as np\n",
    "from tensorflow.keras.layers import Conv2D\n",
    "from tensorflow.keras.layers import AbstractRNNCell\n",
    "from tensorflow.keras.layers import RNN\n",
    "from tensorflow.keras.layers import Conv1D\n",
    "from tensorflow.keras import activations\n",
    "from tensorflow.keras import Input\n",
    "\n",
    "import numpy as np"
   ]
  },
  {
   "cell_type": "code",
   "execution_count": 0,
   "metadata": {
    "colab": {},
    "colab_type": "code",
    "id": "R21uTgXWdcJS"
   },
   "outputs": [],
   "source": [
    "import matplotlib.pyplot as plt"
   ]
  },
  {
   "cell_type": "markdown",
   "metadata": {
    "colab_type": "text",
    "id": "5EGGpIwh5E0R"
   },
   "source": [
    "If you want to check if op is run on GPU set following option to be true and run toy example"
   ]
  },
  {
   "cell_type": "code",
   "execution_count": 0,
   "metadata": {
    "colab": {},
    "colab_type": "code",
    "id": "M1uMmduDb6n8"
   },
   "outputs": [],
   "source": [
    "tf.debugging.set_log_device_placement(False)"
   ]
  },
  {
   "cell_type": "markdown",
   "metadata": {
    "colab_type": "text",
    "id": "N_Pcww9S02Q6"
   },
   "source": [
    "You can skip the cell below since Eager Execution is by default enabled"
   ]
  },
  {
   "cell_type": "code",
   "execution_count": 5,
   "metadata": {
    "colab": {
     "base_uri": "https://localhost:8080/",
     "height": 34
    },
    "colab_type": "code",
    "executionInfo": {
     "elapsed": 144479,
     "status": "ok",
     "timestamp": 1572426065062,
     "user": {
      "displayName": "이희찬",
      "photoUrl": "",
      "userId": "06255163499262544080"
     },
     "user_tz": -540
    },
    "id": "ov66Cb0nsZfF",
    "outputId": "29c2b458-6d49-4203-89b8-f6e31beac485"
   },
   "outputs": [
    {
     "data": {
      "text/plain": [
       "True"
      ]
     },
     "execution_count": 5,
     "metadata": {
      "tags": []
     },
     "output_type": "execute_result"
    }
   ],
   "source": [
    "tf.executing_eagerly()"
   ]
  },
  {
   "cell_type": "code",
   "execution_count": 0,
   "metadata": {
    "colab": {},
    "colab_type": "code",
    "id": "YbjqRp_n18ul"
   },
   "outputs": [],
   "source": [
    "def binarize(images):\n",
    "    return (np.random.uniform(size=images.shape) < images).astype('float32')"
   ]
  },
  {
   "cell_type": "code",
   "execution_count": 0,
   "metadata": {
    "colab": {},
    "colab_type": "code",
    "id": "vFYt5op8zdKH"
   },
   "outputs": [],
   "source": [
    "def prepare_mnist_features_and_labels(x, y):\n",
    "    pass\n",
    "\n",
    "def mnist_dataset(bsize=100, shuffle_buffer_size=1000):\n",
    "    (x, y), _ = tf.keras.datasets.mnist.load_data()\n",
    "    x = binarize(np.array(x / 255.0, dtype=np.float32))\n",
    "    x = np.expand_dims(x, -1)\n",
    "    #import copy\n",
    "    #y = copy.deepcopy(x)\n",
    "\n",
    "    from sklearn.model_selection import train_test_split\n",
    "    X, Xval, Y, Yval = train_test_split(x, y, test_size=0.2, random_state=1)\n",
    "\n",
    "    n_tr = X.shape[0]\n",
    "    n_te = Xval.shape[0]\n",
    "\n",
    "    #trds = tf.data.Dataset.from_tensor_slices((X, Y))\n",
    "    trds = tf.data.Dataset.from_tensor_slices((X, X))\n",
    "    #trds = trds.map(prepare_mnist_features_and_labels)\n",
    "    trds = trds.take(n_tr).shuffle(shuffle_buffer_size).batch(bsize)\n",
    "\n",
    "    #teds = tf.data.Dataset.from_tensor_slices((Xval, Yval))\n",
    "    teds = tf.data.Dataset.from_tensor_slices((Xval, Xval))\n",
    "    #trds = trds.map(prepare_mnist_features_and_labels)\n",
    "    teds = teds.take(n_te).shuffle(shuffle_buffer_size).batch(bsize)\n",
    "\n",
    "    return trds, teds\n",
    "\n",
    "train_dataset, val_dataset = mnist_dataset(16)\n"
   ]
  },
  {
   "cell_type": "code",
   "execution_count": 0,
   "metadata": {
    "colab": {},
    "colab_type": "code",
    "id": "IloFNqJJSbxB"
   },
   "outputs": [],
   "source": [
    "from tensorflow.python.ops import array_ops\n",
    "from tensorflow.python.ops import nn\n",
    "\n",
    "'''\n",
    "grayscale은 쉬운데\n",
    "grayscale부터 해보자!\n",
    "rgb는 내생각에는\n",
    "utils에\n",
    "N, H, W, C --> N,H,W*C로 만들어야할듯\n",
    "반대 operation도! skew참조\n",
    "\n",
    "'''\n",
    "\n",
    "class MaskedConv2D(layers.Conv2D):\n",
    "    def __init__(self, *args, mask='B', n_channel=3, mono=False, **kwargs):\n",
    "        super(MaskedConv2D,self).__init__(*args,**kwargs)\n",
    "        self.mask_type = mask\n",
    "        self.mask = None\n",
    "        self.trainable=True\n",
    "    \n",
    "    def build(self, input_shape):\n",
    "        super(MaskedConv2D, self).build(input_shape)\n",
    "        if self.data_format == 'channel_first':\n",
    "            channel_axis = 1\n",
    "        else:\n",
    "            channel_axis = -1\n",
    "        if input_shape.dims[channel_axis].value is None:\n",
    "            raise ValueError('The channel dimension of the inputs '\n",
    "                           'should be defined. Found `None`.')\n",
    "        input_dim = int(input_shape[channel_axis])\n",
    "        kernel_shape = self.kernel_size + (input_dim, self.filters)\n",
    "\n",
    "        self.mask = np.ones(kernel_shape)\n",
    "\n",
    "        self.mask[kernel_shape[0]//2,kernel_shape[1]//2 + (self.mask_type == 'B'):,:,:] = 0\n",
    "        self.mask[kernel_shape[0]//2+1:,:,:,:] = 0\n",
    "\n",
    "        self.mask = tf.convert_to_tensor(self.mask, dtype=tf.float32)\n",
    "        self.mask = tf.Variable(self.mask, trainable=False)\n",
    "        #self.kernel = tf.Variable(self.kernel * self.mask)\n",
    "        self.built = True\n",
    "    \n",
    "    #def call(self, inputs):\n",
    "    #  return super(MaskedConv2D, self).call(inputs)\n",
    "  \n",
    "    '''\n",
    "    the code snippet below is taken from tf.keras convolutional.py\n",
    "    '''\n",
    "    def call(self, inputs):\n",
    "        outputs = self._convolution_op(inputs, self.kernel * self.mask)\n",
    "\n",
    "        if self.use_bias:\n",
    "            if self.data_format == 'channels_first':\n",
    "                if self.rank == 1:\n",
    "                    # nn.bias_add does not accept a 1D input tensor.\n",
    "                    bias = array_ops.reshape(self.bias, (1, self.filters, 1))\n",
    "                    outputs += bias\n",
    "                else:\n",
    "                    outputs = nn.bias_add(outputs, self.bias, data_format='NCHW')\n",
    "            else:\n",
    "                outputs = nn.bias_add(outputs, self.bias, data_format='NHWC')\n",
    "\n",
    "        if self.activation is not None:\n",
    "            return self.activation(outputs)\n",
    "        return outputs\n",
    "    \n"
   ]
  },
  {
   "cell_type": "code",
   "execution_count": 0,
   "metadata": {
    "colab": {},
    "colab_type": "code",
    "id": "7bzxp0idzbjj"
   },
   "outputs": [],
   "source": [
    "def conv_block(filters, kernel_size, mask=None):\n",
    "    inputs = tf.keras.Input(shape=(28,28,filters))\n",
    "    x = MaskedConv2D(filters, kernel_size, n_channel=filters, mask=mask, padding='same')(inputs)\n",
    "    x = tf.keras.layers.BatchNormalization()(x)\n",
    "    outputs = tf.keras.activations.relu(x)\n",
    "    return tf.keras.Model(inputs, outputs, name='conv_block')\n"
   ]
  },
  {
   "cell_type": "code",
   "execution_count": 0,
   "metadata": {
    "colab": {},
    "colab_type": "code",
    "id": "HT9vWjGD1PdM"
   },
   "outputs": [],
   "source": [
    "class PixelCNN(tf.keras.Model):\n",
    "    def __init__(self, hidden_dims, width, height, channels, layers, *args, **kwargs):\n",
    "        super(PixelCNN, self).__init__(*args, **kwargs)\n",
    "\n",
    "        self.conv7_7 = MaskedConv2D(hidden_dims, (7,7),n_channel=1, mask='A', padding='same')\n",
    "        if layers > 1:\n",
    "            self.conv3_3 = [conv_block(hidden_dims, (3,3), mask='B') for _ in range(layers)]\n",
    "        else:\n",
    "            self.conv3_3 = [conv_block(hidden_dims, (3,3), mask='B')]\n",
    "\n",
    "        self.conv1_1 = Conv2D(32, (1,1), padding='same', activation='relu')\n",
    "        self.conv_last = Conv2D(1, (1,1), padding='same')\n",
    "\n",
    "    def call(self, inputs):\n",
    "        x = self.conv7_7(inputs)\n",
    "        for conv in self.conv3_3:\n",
    "            x = conv(x)\n",
    "\n",
    "        x = self.conv1_1(x)\n",
    "        x = self.conv_last(x)\n",
    "        return activations.sigmoid(x)\n",
    "\n",
    "  "
   ]
  },
  {
   "cell_type": "code",
   "execution_count": 0,
   "metadata": {
    "colab": {},
    "colab_type": "code",
    "id": "mlDqdTIx4mf4"
   },
   "outputs": [],
   "source": [
    "HIDDEN_DIMS = 128\n",
    "LAYERS = 15\n",
    "HEIGHT, WIDTH = (28,28)\n",
    "CHANNELS = 1\n",
    "\n",
    "pixelcnn = PixelCNN(HIDDEN_DIMS,WIDTH,HEIGHT,CHANNELS,LAYERS)"
   ]
  },
  {
   "cell_type": "markdown",
   "metadata": {
    "colab_type": "text",
    "id": "rxANQZiWE40R"
   },
   "source": [
    "It seems like TF Eagermode tracks variables once model is built and build() is called when model is actually called"
   ]
  },
  {
   "cell_type": "code",
   "execution_count": 0,
   "metadata": {
    "colab": {},
    "colab_type": "code",
    "id": "hPlgy4xyE34d"
   },
   "outputs": [],
   "source": [
    "pixelcnn.compile(optimizer=tf.optimizers.RMSprop(0.001),\n",
    "              loss='binary_crossentropy',\n",
    "              )\n"
   ]
  },
  {
   "cell_type": "code",
   "execution_count": 11,
   "metadata": {
    "colab": {
     "base_uri": "https://localhost:8080/",
     "height": 34
    },
    "colab_type": "code",
    "executionInfo": {
     "elapsed": 1619,
     "status": "ok",
     "timestamp": 1572442424252,
     "user": {
      "displayName": "이희찬",
      "photoUrl": "",
      "userId": "06255163499262544080"
     },
     "user_tz": -540
    },
    "id": "OwGD3lBWio63",
    "outputId": "8ab61486-fcf0-4075-e20c-e2529ba96edc"
   },
   "outputs": [
    {
     "name": "stdout",
     "output_type": "stream",
     "text": [
      "['loss']\n"
     ]
    }
   ],
   "source": [
    "print(pixelcnn.metrics_names)"
   ]
  },
  {
   "cell_type": "code",
   "execution_count": 0,
   "metadata": {
    "colab": {},
    "colab_type": "code",
    "id": "MEbHEyL0jPzR"
   },
   "outputs": [],
   "source": [
    "callbacks = [\n",
    "    tf.keras.callbacks.ModelCheckpoint(filepath='./model/model_{epoch}.h5', mode='min', monitor='val_loss')\n",
    "]"
   ]
  },
  {
   "cell_type": "code",
   "execution_count": 12,
   "metadata": {
    "colab": {
     "base_uri": "https://localhost:8080/",
     "height": 369
    },
    "colab_type": "code",
    "executionInfo": {
     "elapsed": 3143516,
     "status": "ok",
     "timestamp": 1572445579167,
     "user": {
      "displayName": "이희찬",
      "photoUrl": "",
      "userId": "06255163499262544080"
     },
     "user_tz": -540
    },
    "id": "0P_1tAWoGe9q",
    "outputId": "b243350e-54f6-417a-f6e4-7d72091892b2"
   },
   "outputs": [
    {
     "name": "stdout",
     "output_type": "stream",
     "text": [
      "Epoch 1/10\n",
      "3000/3000 [==============================] - 319s 106ms/step - loss: 0.1326 - val_loss: 0.0000e+00\n",
      "Epoch 2/10\n",
      "3000/3000 [==============================] - 314s 105ms/step - loss: 0.1122 - val_loss: 0.1149\n",
      "Epoch 3/10\n",
      "3000/3000 [==============================] - 314s 105ms/step - loss: 0.1101 - val_loss: 0.1095\n",
      "Epoch 4/10\n",
      "3000/3000 [==============================] - 314s 105ms/step - loss: 0.1090 - val_loss: 0.1093\n",
      "Epoch 5/10\n",
      "3000/3000 [==============================] - 313s 104ms/step - loss: 0.1082 - val_loss: 0.1089\n",
      "Epoch 6/10\n",
      "3000/3000 [==============================] - 314s 105ms/step - loss: 0.1076 - val_loss: 0.1089\n",
      "Epoch 7/10\n",
      "3000/3000 [==============================] - 313s 104ms/step - loss: 0.1071 - val_loss: 0.1080\n",
      "Epoch 8/10\n",
      "3000/3000 [==============================] - 313s 104ms/step - loss: 0.1067 - val_loss: 0.1078\n",
      "Epoch 9/10\n",
      "3000/3000 [==============================] - 313s 104ms/step - loss: 0.1064 - val_loss: 0.1078\n",
      "Epoch 10/10\n",
      "3000/3000 [==============================] - 313s 104ms/step - loss: 0.1060 - val_loss: 0.1075\n"
     ]
    }
   ],
   "source": [
    "history = pixelcnn.fit(train_dataset, verbose=1, validation_data=val_dataset, epochs=10) #, callbacks=callbacks) "
   ]
  },
  {
   "cell_type": "code",
   "execution_count": 13,
   "metadata": {
    "colab": {
     "base_uri": "https://localhost:8080/",
     "height": 791
    },
    "colab_type": "code",
    "executionInfo": {
     "elapsed": 3128765,
     "status": "ok",
     "timestamp": 1572445579179,
     "user": {
      "displayName": "이희찬",
      "photoUrl": "",
      "userId": "06255163499262544080"
     },
     "user_tz": -540
    },
    "id": "e6EZAEFmApg1",
    "outputId": "2cdaac6f-e8f7-4fcb-d383-f4abfaad5a68"
   },
   "outputs": [
    {
     "name": "stdout",
     "output_type": "stream",
     "text": [
      "Model: \"pixel_cnn\"\n",
      "_________________________________________________________________\n",
      "Layer (type)                 Output Shape              Param #   \n",
      "=================================================================\n",
      "masked_conv2d (MaskedConv2D) multiple                  12672     \n",
      "_________________________________________________________________\n",
      "conv_block (Model)           (None, 28, 28, 128)       295552    \n",
      "_________________________________________________________________\n",
      "conv_block (Model)           (None, 28, 28, 128)       295552    \n",
      "_________________________________________________________________\n",
      "conv_block (Model)           (None, 28, 28, 128)       295552    \n",
      "_________________________________________________________________\n",
      "conv_block (Model)           (None, 28, 28, 128)       295552    \n",
      "_________________________________________________________________\n",
      "conv_block (Model)           (None, 28, 28, 128)       295552    \n",
      "_________________________________________________________________\n",
      "conv_block (Model)           (None, 28, 28, 128)       295552    \n",
      "_________________________________________________________________\n",
      "conv_block (Model)           (None, 28, 28, 128)       295552    \n",
      "_________________________________________________________________\n",
      "conv_block (Model)           (None, 28, 28, 128)       295552    \n",
      "_________________________________________________________________\n",
      "conv_block (Model)           (None, 28, 28, 128)       295552    \n",
      "_________________________________________________________________\n",
      "conv_block (Model)           (None, 28, 28, 128)       295552    \n",
      "_________________________________________________________________\n",
      "conv_block (Model)           (None, 28, 28, 128)       295552    \n",
      "_________________________________________________________________\n",
      "conv_block (Model)           (None, 28, 28, 128)       295552    \n",
      "_________________________________________________________________\n",
      "conv_block (Model)           (None, 28, 28, 128)       295552    \n",
      "_________________________________________________________________\n",
      "conv_block (Model)           (None, 28, 28, 128)       295552    \n",
      "_________________________________________________________________\n",
      "conv_block (Model)           (None, 28, 28, 128)       295552    \n",
      "_________________________________________________________________\n",
      "conv2d (Conv2D)              multiple                  4128      \n",
      "_________________________________________________________________\n",
      "conv2d_1 (Conv2D)            multiple                  33        \n",
      "=================================================================\n",
      "Total params: 4,450,113\n",
      "Trainable params: 2,228,161\n",
      "Non-trainable params: 2,221,952\n",
      "_________________________________________________________________\n"
     ]
    }
   ],
   "source": [
    "pixelcnn.summary()"
   ]
  },
  {
   "cell_type": "markdown",
   "metadata": {
    "colab_type": "text",
    "id": "kkTaIvYQjmGv"
   },
   "source": [
    "Another way of training\n",
    "\n",
    "Using custom train_step decorated with @tf.function"
   ]
  },
  {
   "cell_type": "code",
   "execution_count": 0,
   "metadata": {
    "colab": {},
    "colab_type": "code",
    "id": "Nbz8kwmbUHFM"
   },
   "outputs": [],
   "source": [
    "#optimizer = tf.optimizers.Adam(learning_rate=0.01, beta_1=0.99, epsilon=1e-1)\n",
    "optimizer = tf.optimizers.RMSprop(learning_rate=0.001)"
   ]
  },
  {
   "cell_type": "markdown",
   "metadata": {
    "colab_type": "text",
    "id": "1hkIhRZ2MpQk"
   },
   "source": [
    "Checkpoint's constructor accepts keyword arguments whose values are types that contain trackable state, such as tf.keras.optimizers.Optimizer implementations, tf.Variable, tf.keras.Layer implementations, or tf.keras.Model implementations. It saves these values with a checkpoint, and maintains a save_counter for numbering checkpoints."
   ]
  },
  {
   "cell_type": "code",
   "execution_count": 0,
   "metadata": {
    "colab": {},
    "colab_type": "code",
    "id": "XCWh-3_AMmlk"
   },
   "outputs": [],
   "source": [
    "ckpt = tf.train.Checkpoint(pixelrnn=pixelrnn, optimizer=optimizer)"
   ]
  },
  {
   "cell_type": "markdown",
   "metadata": {
    "colab_type": "text",
    "id": "IiKWda2-N4it"
   },
   "source": [
    "Equivalent to tf.train.latest_checkpoint(directory) where directory is the constructor argument to CheckpointManager."
   ]
  },
  {
   "cell_type": "code",
   "execution_count": 0,
   "metadata": {
    "colab": {},
    "colab_type": "code",
    "id": "OogW6oEgMmwZ"
   },
   "outputs": [],
   "source": [
    "checkpoint_path = './checkpoint/train'\n",
    "ckpt_manager = tf.train.CheckpointManager(ckpt, checkpoint_path, max_to_keep=5)\n",
    "\n",
    "# if a checkpoint exists, restore the latest checkpoint.\n",
    "if ckpt_manager.latest_checkpoint:\n",
    "    ckpt.restore(ckpt_manager.latest_checkpoint)\n",
    "    print ('Latest checkpoint restored!!')"
   ]
  },
  {
   "cell_type": "code",
   "execution_count": 0,
   "metadata": {
    "colab": {},
    "colab_type": "code",
    "id": "Q8ZGI_a2oqSD"
   },
   "outputs": [],
   "source": [
    "@tf.function\n",
    "def train_step(inputs, targets):\n",
    "  \n",
    "    #if len(targets.shape) > 2:\n",
    "    #  width = targets.shape[-2]\n",
    "    #  targets = tf.reshape(targets, [-1, width*width])\n",
    "  \n",
    "    with tf.GradientTape() as tape:    \n",
    "        logits_ = pixelrnn(inputs)\n",
    "        #loss = tf.reduce_mean(tf.nn.sigmoid_cross_entropy_with_logits(labels=targets, logits=logits_))\n",
    "        bce = tf.keras.losses.BinaryCrossentropy()\n",
    "        loss = bce(targets, logits_)\n",
    "    grads = tape.gradient(loss, pixelrnn.trainable_variables)\n",
    "    optimizer.apply_gradients(zip(grads, pixelrnn.trainable_variables))\n",
    "  \n",
    "    return loss"
   ]
  },
  {
   "cell_type": "code",
   "execution_count": 0,
   "metadata": {
    "colab": {
     "base_uri": "https://localhost:8080/",
     "height": 158
    },
    "colab_type": "code",
    "executionInfo": {
     "elapsed": 720768,
     "status": "ok",
     "timestamp": 1571840738844,
     "user": {
      "displayName": "이희찬",
      "photoUrl": "",
      "userId": "06255163499262544080"
     },
     "user_tz": -540
    },
    "id": "dB97gH0Lziap",
    "outputId": "597c2672-e686-44fd-fcd2-99fdd8c053fa"
   },
   "outputs": [
    {
     "name": "stdout",
     "output_type": "stream",
     "text": [
      "3.3333333333333335% complete 6.666666666666667% complete 10.0% complete 13.333333333333334% complete 16.666666666666668% complete\n",
      "20.0% complete 23.333333333333332% complete 26.666666666666668% complete 30.0% complete 33.333333333333336% complete\n",
      "36.666666666666664% complete 40.0% complete 43.333333333333336% complete 46.666666666666664% complete 50.0% complete\n",
      "53.333333333333336% complete 56.666666666666664% complete 60.0% complete 63.333333333333336% complete 66.66666666666667% complete\n",
      "70.0% complete 73.33333333333333% complete 76.66666666666667% complete 80.0% complete 83.33333333333333% complete\n",
      "86.66666666666667% complete 90.0% complete 93.33333333333333% complete 96.66666666666667% complete 100.0% complete\n",
      "epoch 0 : elapsed: 720.024587392807\n",
      "epoch 0 : loss: 709.5159301757812\n"
     ]
    }
   ],
   "source": [
    "import random\n",
    "EPOCHS = 1\n",
    "BATCH_SIZE = 16\n",
    "loss_trace = []\n",
    "import time\n",
    "for epoch in range(EPOCHS):\n",
    "  \n",
    "    total_loss = 0.0\n",
    "    i=0\n",
    "    epoch_start = time.time()\n",
    "    for x,y in train_dataset:\n",
    "        start=time.time()\n",
    "        loss = train_step(x,y)\n",
    "    \n",
    "        total_loss += loss\n",
    "        i += 1\n",
    "    \n",
    "        if i % 100 == 0:\n",
    "            if i % 500 == 0:\n",
    "                print('{}% complete'.format(i/30))\n",
    "        else:\n",
    "            print('{}% complete'.format(i/30) ,end=' ')\n",
    "        \n",
    "    epoch_elapsed = time.time() - epoch_start\n",
    "    print(\"epoch {} : elapsed: {}\".format(epoch,epoch_elapsed))\n",
    "    print(\"epoch {} : loss: {}\".format(epoch,total_loss))\n",
    "  \n",
    "    if (epoch + 1) % 5 == 0:\n",
    "        ckpt_save_path = ckpt_manager.save()\n",
    "        print ('Saving checkpoint for epoch {} at {}'.format(epoch+1,\n",
    "                                                         ckpt_save_path))\n",
    "  \n",
    "    loss_trace.append(total_loss)"
   ]
  },
  {
   "cell_type": "code",
   "execution_count": 0,
   "metadata": {
    "colab": {},
    "colab_type": "code",
    "id": "BwAPjqRaJEQS"
   },
   "outputs": [],
   "source": [
    "'''\n",
    "\n",
    "clone keras model\n",
    "\n",
    "config = model.get_config()\n",
    "weights = model.get_weights()\n",
    "\n",
    "new_model = keras.Model.from_config(config)\n",
    "new_model.set_weights(weights)\n",
    "'''"
   ]
  },
  {
   "cell_type": "code",
   "execution_count": 0,
   "metadata": {
    "colab": {},
    "colab_type": "code",
    "id": "xSV_BtHpCzfS"
   },
   "outputs": [],
   "source": [
    "epoch_to_load = 5\n",
    "chkpoint_path = '/content/drive/My Drive/Colab Notebooks/pixelrnn/model_{}.h5'.format(epoch_to_load)\n",
    "pixelrnn_loaded = keras.models.load_model(chkpoint_path)"
   ]
  },
  {
   "cell_type": "code",
   "execution_count": 0,
   "metadata": {
    "colab": {},
    "colab_type": "code",
    "id": "9vb7Ixu7GyrC"
   },
   "outputs": [],
   "source": [
    "'''\n",
    "#if you store model in .ckpt format\n",
    "latest = tf.train.latest_checkpoint('/content/drive/My Drive/Colab Notebooks/pixelrnn/')\n",
    "# Create a new model instance\n",
    "pixelrnn_loaded = PixelRNN(HIDDEN_DIMS,WIDTH,HEIGHT,CHANNELS,LAYERS)\n",
    "\n",
    "# Load the previously saved weights\n",
    "pixelrnn_loaded .load_weights(latest)\n",
    "'''"
   ]
  },
  {
   "cell_type": "code",
   "execution_count": 0,
   "metadata": {
    "colab": {},
    "colab_type": "code",
    "id": "duhSNYafG0ew"
   },
   "outputs": [],
   "source": [
    "'''\n",
    "this is also possible\n",
    "new_model = keras.models.model_from_json(json_config)\n",
    "new_model.load_weights('path_to_my_weights.h5')\n",
    "'''"
   ]
  },
  {
   "cell_type": "code",
   "execution_count": 0,
   "metadata": {
    "colab": {},
    "colab_type": "code",
    "id": "7uZyCJtgLKpr"
   },
   "outputs": [],
   "source": [
    "import time\n",
    "\n",
    "def generate(model, batch=100):\n",
    "    \n",
    "    generated_samples = np.zeros((batch,28,28,1), dtype=np.float32)\n",
    "    beg = time.time()\n",
    "    for i in range(28):\n",
    "        for j in range(28):\n",
    "            generated_samples[:,i,j,0] = binarize(model(generated_samples).numpy())[:,i,j,0]\n",
    "      \n",
    "    elapsed = time.time() - beg\n",
    "    print(\"time taken for generation: {}\".format(elapsed))\n",
    "    return generated_samples"
   ]
  },
  {
   "cell_type": "code",
   "execution_count": 0,
   "metadata": {
    "colab": {},
    "colab_type": "code",
    "id": "u4iDwOc4uXdl"
   },
   "outputs": [],
   "source": [
    "import PIL\n",
    "import os\n",
    "def save_images(images, height, width, n_row, n_col, directory=\"./\", prefix=\"sample\", epoch=1):\n",
    "    images = images.reshape((n_row, n_col, height, width))\n",
    "    images = images.transpose(1, 2, 0, 3)\n",
    "    images = images.reshape((height * n_row, width * n_col))\n",
    "\n",
    "    filename = '%s_%s.jpg' % (prefix, epoch)\n",
    "    PIL.Image.fromarray(images.astype('uint8'), mode='L').save(os.path.join(directory, filename))"
   ]
  },
  {
   "cell_type": "code",
   "execution_count": 16,
   "metadata": {
    "colab": {
     "base_uri": "https://localhost:8080/",
     "height": 34
    },
    "colab_type": "code",
    "executionInfo": {
     "elapsed": 131081,
     "status": "ok",
     "timestamp": 1572445900641,
     "user": {
      "displayName": "이희찬",
      "photoUrl": "",
      "userId": "06255163499262544080"
     },
     "user_tz": -540
    },
    "id": "r-_Q8YjD9UbM",
    "outputId": "caaebfcf-7d6e-4afb-c689-2c1ccf31fff9"
   },
   "outputs": [
    {
     "name": "stdout",
     "output_type": "stream",
     "text": [
      "time taken for generation: 130.08636379241943\n"
     ]
    }
   ],
   "source": [
    "generated_samples = generate(pixelcnn)"
   ]
  },
  {
   "cell_type": "code",
   "execution_count": 17,
   "metadata": {
    "colab": {
     "base_uri": "https://localhost:8080/",
     "height": 34
    },
    "colab_type": "code",
    "executionInfo": {
     "elapsed": 983,
     "status": "ok",
     "timestamp": 1572445901638,
     "user": {
      "displayName": "이희찬",
      "photoUrl": "",
      "userId": "06255163499262544080"
     },
     "user_tz": -540
    },
    "id": "EFDnV0_lEmLn",
    "outputId": "086b2f85-e015-4990-cd24-4ec560d413b1"
   },
   "outputs": [
    {
     "data": {
      "text/plain": [
       "<tensorflow.python.keras.callbacks.History at 0x7fc6e6ebcc50>"
      ]
     },
     "execution_count": 17,
     "metadata": {
      "tags": []
     },
     "output_type": "execute_result"
    }
   ],
   "source": [
    "history"
   ]
  },
  {
   "cell_type": "code",
   "execution_count": 37,
   "metadata": {
    "colab": {
     "base_uri": "https://localhost:8080/",
     "height": 282
    },
    "colab_type": "code",
    "executionInfo": {
     "elapsed": 996,
     "status": "ok",
     "timestamp": 1572446843387,
     "user": {
      "displayName": "이희찬",
      "photoUrl": "",
      "userId": "06255163499262544080"
     },
     "user_tz": -540
    },
    "id": "M1US4FGQOTtR",
    "outputId": "21036833-c957-4c33-8a95-30002b87f18d"
   },
   "outputs": [
    {
     "data": {
      "text/plain": [
       "<matplotlib.image.AxesImage at 0x7fc6e0862710>"
      ]
     },
     "execution_count": 37,
     "metadata": {
      "tags": []
     },
     "output_type": "execute_result"
    },
    {
     "data": {
      "image/png": "[encoded data removed]",
      "text/plain": [
       "<Figure size 432x288 with 1 Axes>"
      ]
     },
     "metadata": {
      "tags": []
     },
     "output_type": "display_data"
    }
   ],
   "source": [
    "import matplotlib.pyplot as plt\n",
    "\n",
    "plt.imshow(tf.squeeze(generated_samples.astype('uint8')[1]))"
   ]
  },
  {
   "cell_type": "code",
   "execution_count": 23,
   "metadata": {
    "colab": {
     "base_uri": "https://localhost:8080/",
     "height": 295
    },
    "colab_type": "code",
    "executionInfo": {
     "elapsed": 1149,
     "status": "ok",
     "timestamp": 1572446174916,
     "user": {
      "displayName": "이희찬",
      "photoUrl": "",
      "userId": "06255163499262544080"
     },
     "user_tz": -540
    },
    "id": "1vzx-GVXGCb6",
    "outputId": "6681da00-11df-4150-cac4-a6b6d387d822"
   },
   "outputs": [
    {
     "data": {
      "image/png": "[encoded data removed]",
      "text/plain": [
       "<Figure size 432x288 with 1 Axes>"
      ]
     },
     "metadata": {
      "tags": []
     },
     "output_type": "display_data"
    }
   ],
   "source": [
    "plt.plot(history.history['loss'])\n",
    "plt.plot(history.history['val_loss'])\n",
    "plt.title('model loss')\n",
    "plt.ylabel('loss')\n",
    "plt.xlabel('epoch')\n",
    "plt.legend(['train', 'test'], loc='upper left')\n",
    "plt.show()"
   ]
  },
  {
   "cell_type": "code",
   "execution_count": 47,
   "metadata": {
    "colab": {
     "base_uri": "https://localhost:8080/",
     "height": 34
    },
    "colab_type": "code",
    "executionInfo": {
     "elapsed": 1116,
     "status": "ok",
     "timestamp": 1572447167738,
     "user": {
      "displayName": "이희찬",
      "photoUrl": "",
      "userId": "06255163499262544080"
     },
     "user_tz": -540
    },
    "id": "I1h8P17rvXRK",
    "outputId": "b5610743-fe28-4334-c8aa-c77ce6c3e22e"
   },
   "outputs": [
    {
     "name": "stdout",
     "output_type": "stream",
     "text": [
      "<PIL.Image.Image image mode=L size=280x280 at 0x7FC6E08874E0>\n"
     ]
    }
   ],
   "source": [
    "save_images((generated_samples*255).astype('uint8'), 28,28,10,10,epoch=10)"
   ]
  },
  {
   "cell_type": "code",
   "execution_count": 0,
   "metadata": {
    "colab": {},
    "colab_type": "code",
    "id": "ldZC_aXoKibV"
   },
   "outputs": [],
   "source": [
    "occluded_sample = next(iter(val_dataset.take(1)))[0]"
   ]
  },
  {
   "cell_type": "code",
   "execution_count": 0,
   "metadata": {
    "colab": {},
    "colab_type": "code",
    "id": "iHDHf2bhKtpG"
   },
   "outputs": [],
   "source": [
    "occluded_sample = np.array(occluded_sample[:10])"
   ]
  },
  {
   "cell_type": "code",
   "execution_count": 127,
   "metadata": {
    "colab": {
     "base_uri": "https://localhost:8080/",
     "height": 34
    },
    "colab_type": "code",
    "executionInfo": {
     "elapsed": 1408,
     "status": "ok",
     "timestamp": 1572449405804,
     "user": {
      "displayName": "이희찬",
      "photoUrl": "",
      "userId": "06255163499262544080"
     },
     "user_tz": -540
    },
    "id": "opU43M7eOQbc",
    "outputId": "90fb375d-cdd5-4584-b91a-931cef5baf33"
   },
   "outputs": [
    {
     "data": {
      "text/plain": [
       "(10, 28, 28, 1)"
      ]
     },
     "execution_count": 127,
     "metadata": {
      "tags": []
     },
     "output_type": "execute_result"
    }
   ],
   "source": [
    "occluded_sample.shape"
   ]
  },
  {
   "cell_type": "code",
   "execution_count": 0,
   "metadata": {
    "colab": {},
    "colab_type": "code",
    "id": "osAWDsXqOGcF"
   },
   "outputs": [],
   "source": [
    "occluded_sample[:,19:,:,:] = 0"
   ]
  },
  {
   "cell_type": "code",
   "execution_count": 0,
   "metadata": {
    "colab": {},
    "colab_type": "code",
    "id": "LbwW3AmJ_M53"
   },
   "outputs": [],
   "source": [
    "def generate_occluded(model, occluded_image, occl_row=None):\n",
    "    if not occl_row:\n",
    "        print(\"Specify the occlusion region by passing occl_row, which indicates the first row index under which an occlusion happens\")\n",
    "  \n",
    "    import copy\n",
    "    clone = copy.deepcopy(occluded_image)\n",
    "  \n",
    "    for i in range(28-occl_row):\n",
    "        for j in range(28):\n",
    "            occluded_image[:, occl_row+i,j, :] = binarize(model(occluded_image).numpy())[:,occl_row+i,j,:]\n",
    "\n",
    "    return clone, occluded_image"
   ]
  },
  {
   "cell_type": "code",
   "execution_count": 0,
   "metadata": {
    "colab": {},
    "colab_type": "code",
    "id": "y5YqR_pOvyAW"
   },
   "outputs": [],
   "source": [
    "occ, gen = generate_occluded(pixelcnn,occluded_sample, 19 )"
   ]
  },
  {
   "cell_type": "code",
   "execution_count": 131,
   "metadata": {
    "colab": {
     "base_uri": "https://localhost:8080/",
     "height": 282
    },
    "colab_type": "code",
    "executionInfo": {
     "elapsed": 815,
     "status": "ok",
     "timestamp": 1572449450820,
     "user": {
      "displayName": "이희찬",
      "photoUrl": "",
      "userId": "06255163499262544080"
     },
     "user_tz": -540
    },
    "id": "npC_NvHwMBms",
    "outputId": "b683816b-e918-4139-caeb-4fc418280192"
   },
   "outputs": [
    {
     "data": {
      "text/plain": [
       "<matplotlib.image.AxesImage at 0x7fc6df6d3470>"
      ]
     },
     "execution_count": 131,
     "metadata": {
      "tags": []
     },
     "output_type": "execute_result"
    },
    {
     "data": {
      "image/png": "[encoded data removed]",
      "text/plain": [
       "<Figure size 432x288 with 1 Axes>"
      ]
     },
     "metadata": {
      "tags": []
     },
     "output_type": "display_data"
    }
   ],
   "source": [
    "plt.imshow(occ[4,:,:,0]*255, cmap='gray', vmin=0, vmax=255)"
   ]
  },
  {
   "cell_type": "code",
   "execution_count": 132,
   "metadata": {
    "colab": {
     "base_uri": "https://localhost:8080/",
     "height": 282
    },
    "colab_type": "code",
    "executionInfo": {
     "elapsed": 1006,
     "status": "ok",
     "timestamp": 1572449453226,
     "user": {
      "displayName": "이희찬",
      "photoUrl": "",
      "userId": "06255163499262544080"
     },
     "user_tz": -540
    },
    "id": "FxiM41MPMsCJ",
    "outputId": "9e706ea9-8f7b-40d5-bb65-b7613e9bbfc9"
   },
   "outputs": [
    {
     "data": {
      "text/plain": [
       "<matplotlib.image.AxesImage at 0x7fc6df6ad320>"
      ]
     },
     "execution_count": 132,
     "metadata": {
      "tags": []
     },
     "output_type": "execute_result"
    },
    {
     "data": {
      "image/png": "[encoded data removed]",
      "text/plain": [
       "<Figure size 432x288 with 1 Axes>"
      ]
     },
     "metadata": {
      "tags": []
     },
     "output_type": "display_data"
    }
   ],
   "source": [
    "plt.imshow(gen[4,:,:,0]*255, cmap='gray', vmin=0, vmax=255)"
   ]
  },
  {
   "cell_type": "code",
   "execution_count": 0,
   "metadata": {
    "colab": {},
    "colab_type": "code",
    "id": "sCf-sIbnMxhd"
   },
   "outputs": [],
   "source": [
    "def save_images_completion(occluded, completion, height, width, batch_size,\n",
    "                           directory=\"./\", prefix=\"completion\", epoch=1):\n",
    "    occluded = np.expand_dims(np.squeeze(occluded, axis=-1), axis=0)\n",
    "    completion = np.expand_dims(np.squeeze(completion, axis=-1), axis=0)\n",
    "    images = np.concatenate((occluded, completion), axis=0)\n",
    "    images = images.transpose(0, 2, 1, 3)\n",
    "    images = images.reshape((height * 2, width * batch_size))\n",
    "\n",
    "    filename = '%s_%s.jpg' % (prefix, epoch)\n",
    "    PIL.Image.fromarray(images.astype('uint8'), mode='L').save(os.path.join(directory, filename))"
   ]
  },
  {
   "cell_type": "code",
   "execution_count": 133,
   "metadata": {
    "colab": {
     "base_uri": "https://localhost:8080/",
     "height": 34
    },
    "colab_type": "code",
    "executionInfo": {
     "elapsed": 1232,
     "status": "ok",
     "timestamp": 1572449459481,
     "user": {
      "displayName": "이희찬",
      "photoUrl": "",
      "userId": "06255163499262544080"
     },
     "user_tz": -540
    },
    "id": "zd6mCbh5PnCW",
    "outputId": "16512e69-6d82-4aea-fd7e-38dd77d85757"
   },
   "outputs": [
    {
     "name": "stdout",
     "output_type": "stream",
     "text": [
      "<PIL.Image.Image image mode=L size=280x56 at 0x7FC6DF87FC50>\n"
     ]
    }
   ],
   "source": [
    "save_images_completion((occ*255).astype('uint8'),(gen*255).astype('uint8'),28,28,10,epoch=10)"
   ]
  }
 ],
 "metadata": {
  "accelerator": "GPU",
  "colab": {
   "collapsed_sections": [],
   "name": "PixelCNN keras.ipynb",
   "provenance": []
  },
  "kernelspec": {
   "display_name": "Python 3",
   "language": "python",
   "name": "python3"
  },
  "language_info": {
   "codemirror_mode": {
    "name": "ipython",
    "version": 3
   },
   "file_extension": ".py",
   "mimetype": "text/x-python",
   "name": "python",
   "nbconvert_exporter": "python",
   "pygments_lexer": "ipython3",
   "version": "3.6.5"
  }
 },
 "nbformat": 4,
 "nbformat_minor": 1
}
